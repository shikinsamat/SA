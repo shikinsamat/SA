{
  "nbformat": 4,
  "nbformat_minor": 0,
  "metadata": {
    "colab": {
      "name": "Sentiment Analysis of Movie Reviewsssss.ipynb",
      "version": "0.3.2",
      "provenance": [],
      "collapsed_sections": [],
      "include_colab_link": true
    },
    "language_info": {
      "codemirror_mode": {
        "name": "ipython",
        "version": 3
      },
      "file_extension": ".py",
      "mimetype": "text/x-python",
      "name": "python",
      "nbconvert_exporter": "python",
      "pygments_lexer": "ipython3",
      "version": "3.7.1"
    },
    "kernelspec": {
      "display_name": "Python 3",
      "language": "python",
      "name": "python3"
    }
  },
  "cells": [
    {
      "cell_type": "markdown",
      "metadata": {
        "id": "view-in-github",
        "colab_type": "text"
      },
      "source": [
        "<a href=\"https://colab.research.google.com/github/shikinsamat/SA/blob/master/Sentiment_Analysis_of_Movie_Review.ipynb\" target=\"_parent\"><img src=\"https://colab.research.google.com/assets/colab-badge.svg\" alt=\"Open In Colab\"/></a>"
      ]
    },
    {
      "cell_type": "markdown",
      "metadata": {
        "id": "4XVn-Zzs1xKz",
        "colab_type": "text"
      },
      "source": [
        "# Sentiment Analysis of Movie Reviews"
      ]
    },
    {
      "cell_type": "markdown",
      "metadata": {
        "id": "A_OIOoul1xK3",
        "colab_type": "text"
      },
      "source": [
        "### Sentiment Analysis using NLP using the Movie Reviews Dataset"
      ]
    },
    {
      "cell_type": "code",
      "metadata": {
        "id": "CMBB_v561xK5",
        "colab_type": "code",
        "colab": {},
        "cellView": "both"
      },
      "source": [
        "#@title\n",
        "# https://github.com/shikinsamat/Sentiment-Analysis-of-Movie-Reviews-using-NLP\n",
        "# Import Libraries\n",
        "import nltk\n",
        "nltk.download('movie_reviews')\n",
        "nltk.download('stopwords')\n",
        "nltk.download('punkt')\n",
        "import nltk.classify.util\n",
        "from nltk.classify import NaiveBayesClassifier\n",
        "from nltk.corpus import movie_reviews\n",
        "from nltk.corpus import stopwords\n",
        "from nltk.tokenize import word_tokenize"
      ],
      "execution_count": 0,
      "outputs": []
    },
    {
      "cell_type": "markdown",
      "metadata": {
        "id": "B6aUZGb31xLL",
        "colab_type": "text"
      },
      "source": [
        "### Naive Bayes Classifer\n",
        "\n",
        "> Naive Bayes Classifier expects input in the form\n",
        "```python\n",
        "{'Hello': True,  'World': True}\n",
        "```\n",
        "and not \n",
        "```python\n",
        "\"Hello World\"\n",
        "```"
      ]
    },
    {
      "cell_type": "code",
      "metadata": {
        "id": "7OiWGxkQ1xLN",
        "colab_type": "code",
        "colab": {}
      },
      "source": [
        "# This is how Naive Bayes Classifier expects the input\n",
        "def create_word_features(words):\n",
        "    useful_words = [word for word in words if word not in stopwords.words('english')]\n",
        "    my_dict = dict([(word, True) for word in useful_words])\n",
        "    return my_dict"
      ],
      "execution_count": 0,
      "outputs": []
    },
    {
      "cell_type": "code",
      "metadata": {
        "id": "ooHNb-xr1xLU",
        "colab_type": "code",
        "colab": {}
      },
      "source": [
        "#Negative Reviews\n",
        "neg_reviews = []\n",
        "for fileid in movie_reviews.fileids('neg'):\n",
        "    words = movie_reviews.words(fileid)\n",
        "    neg_reviews.append((create_word_features(words), \"negative\"))\n"
      ],
      "execution_count": 0,
      "outputs": []
    },
    {
      "cell_type": "code",
      "metadata": {
        "scrolled": true,
        "id": "EhHyeNtg1xLb",
        "colab_type": "code",
        "colab": {}
      },
      "source": [
        "print(neg_reviews[0])\n",
        "print(len(neg_reviews))"
      ],
      "execution_count": 0,
      "outputs": []
    },
    {
      "cell_type": "code",
      "metadata": {
        "id": "NzlTI_-T1xLi",
        "colab_type": "code",
        "colab": {}
      },
      "source": [
        "# Positive Reviews\n",
        "pos_reviews = []\n",
        "for fileid in movie_reviews.fileids('pos'):\n",
        "    words = movie_reviews.words(fileid)\n",
        "    pos_reviews.append((create_word_features(words), \"positive\"))\n",
        "    \n",
        "#print(pos_reviews[0])\n",
        "print(len(pos_reviews))"
      ],
      "execution_count": 0,
      "outputs": []
    },
    {
      "cell_type": "code",
      "metadata": {
        "id": "6d2v9Pvh1xLp",
        "colab_type": "code",
        "colab": {}
      },
      "source": [
        "# Split into Training Set and Testing Set\n",
        "train_set = neg_reviews[:750] + pos_reviews[:750]\n",
        "test_set = neg_reviews[750:] + pos_reviews[750:]\n",
        "print('Train Set Samples: ', len(train_set))\n",
        "print('Test Set Samples: ', len(test_set))"
      ],
      "execution_count": 0,
      "outputs": []
    },
    {
      "cell_type": "code",
      "metadata": {
        "id": "EogPYc6p1xLw",
        "colab_type": "code",
        "colab": {}
      },
      "source": [
        "classifier = NaiveBayesClassifier.train(train_set)"
      ],
      "execution_count": 0,
      "outputs": []
    },
    {
      "cell_type": "code",
      "metadata": {
        "id": "oCl0tOmM1xL4",
        "colab_type": "code",
        "colab": {}
      },
      "source": [
        "accuracy = nltk.classify.util.accuracy(classifier, test_set)\n",
        "print(accuracy * 100)"
      ],
      "execution_count": 0,
      "outputs": []
    },
    {
      "cell_type": "code",
      "metadata": {
        "id": "GtSfE9ax1xL_",
        "colab_type": "code",
        "colab": {}
      },
      "source": [
        "# Example for Negative Review\n",
        "\n",
        "review_santa = '''\n",
        " \n",
        "It would be impossible to sum up all the stuff that sucks about this film, so I'll break it down into what I remember most strongly: a man in an ingeniously fake-looking polar bear costume (funnier than the \"bear\" from Hercules in New York); an extra with the most unnatural laugh you're ever likely to hear; an ex-dope addict martian with tics; kid actors who make sure every syllable of their lines are slowly and caaarreee-fulll-yyy prrooo-noun-ceeed; a newspaper headline stating that Santa's been \"kidnaped\", and a giant robot. Yes, you read that right. A giant robot.\n",
        " \n",
        "The worst acting job in here must be when Mother Claus and her elves have been \"frozen\" by the \"Martians'\" weapons. Could they be *more* trembling? I know this was the sixties and everyone was doped up, but still.\n",
        "'''\n",
        "print(review_santa )\n",
        "\n",
        "words = word_tokenize(review_santa)\n",
        "words = create_word_features(words)\n",
        "classifier.classify(words)"
      ],
      "execution_count": 0,
      "outputs": []
    },
    {
      "cell_type": "code",
      "metadata": {
        "id": "X7Cc8Sy61xMI",
        "colab_type": "code",
        "colab": {}
      },
      "source": [
        "# Example for Positive Review\n",
        "\n",
        "review_spirit = '''\n",
        "Spirited Away' is the first Miyazaki I have seen, but from this stupendous film I can tell he is a master storyteller. A hallmark of a good storyteller is making the audience empathise or pull them into the shoes of the central character. Miyazaki does this brilliantly in 'Spirited Away'. During the first fifteen minutes we have no idea what is going on. Neither does the main character Chihiro. We discover the world as Chihiro does and it's truly amazing to watch. But Miyazaki doesn't seem to treat this world as something amazing. The world is filmed just like our workaday world would. The inhabitants of the world go about their daily business as usual as full with apathy as us normal folks. Places and buildings are not greeted by towering establishing shots and majestic music. The fact that this place is amazing doesn't seem to concern Miyazaki.\n",
        " \n",
        "What do however, are the characters. Miyazaki lingers upon the characters as if they were actors. He infixes his animated actors with such subtleties that I have never seen, even from animation giants Pixar. Twenty minutes into this film and I completely forgot these were animated characters; I started to care for them like they were living and breathing. Miyazaki treats the modest achievements of Chihiro with unashamed bombast. The uplifting scene where she cleanses the River God is accompanied by stirring music and is as exciting as watching gladiatorial combatants fight. Of course, by giving the audience developed characters to care about, the action and conflicts will always be more exciting, terrifying and uplifting than normal, generic action scenes. \n",
        "'''\n",
        "print(review_spirit)\n",
        "\n",
        "words = word_tokenize(review_spirit)\n",
        "words = create_word_features(words)\n",
        "classifier.classify(words)"
      ],
      "execution_count": 0,
      "outputs": []
    },
    {
      "cell_type": "code",
      "metadata": {
        "id": "4pkg-bof1xMP",
        "colab_type": "code",
        "colab": {}
      },
      "source": [
        "#review1st\n",
        "\n",
        "Avengers = '''\n",
        "\n",
        "Avengers Endgame was an extremely emotional and well developed film. There were times where I laughed, times where I cried, times where I celebrated with the rest of the crowd in the theatre and it was truly an amazing experience. My favourite part of the movie was that the Russo brothers were willing to give ample amounts of screen time to the characters, especially the original 6, to see how they have developed after 11 years. This film may not have had that much action on screen like Infinity War did but it had a lot of character development which I appreciated greatly, we were able to see these characters from a different perspective and understand how far they’ve come, instead of just throwing them into battle which would probably be awesome too. \n",
        "\n",
        "'''\n",
        "print (Avengers)\n",
        "words = word_tokenize(Avengers)\n",
        "words = create_word_features(words)\n",
        "classifier.classify(words)"
      ],
      "execution_count": 0,
      "outputs": []
    },
    {
      "cell_type": "code",
      "metadata": {
        "id": "DG5qvXe-1xMW",
        "colab_type": "code",
        "colab": {}
      },
      "source": [
        "#review2nd\n",
        "\n",
        "HellBoy = ''' \n",
        "\n",
        "This all hurtles at a relentless, unforgiving pace, glued together with many, many crunchy guitar licks. You don't so much as watch this movie as submit to being pummeled by it.\n",
        "'''\n",
        "print (HellBoy)\n",
        "words = word_tokenize(HellBoy)\n",
        "words = create_word_features(words)\n",
        "classifier.classify(words)"
      ],
      "execution_count": 0,
      "outputs": []
    },
    {
      "cell_type": "code",
      "metadata": {
        "id": "dBDKc9qBXk7_",
        "colab_type": "code",
        "colab": {}
      },
      "source": [
        ""
      ],
      "execution_count": 0,
      "outputs": []
    },
    {
      "cell_type": "code",
      "metadata": {
        "id": "LUeXZ9W01xMd",
        "colab_type": "code",
        "colab": {}
      },
      "source": [
        ""
      ],
      "execution_count": 0,
      "outputs": []
    }
  ]
}